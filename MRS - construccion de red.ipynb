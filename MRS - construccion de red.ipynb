{
 "cells": [
  {
   "cell_type": "markdown",
   "metadata": {},
   "source": [
    "# Prototipo"
   ]
  },
  {
   "cell_type": "code",
   "execution_count": 1,
   "metadata": {
    "tags": []
   },
   "outputs": [
    {
     "name": "stdout",
     "output_type": "stream",
     "text": [
      "3.7.10\n"
     ]
    }
   ],
   "source": [
    "from platform import python_version\n",
    "\n",
    "print(python_version())"
   ]
  },
  {
   "cell_type": "code",
   "execution_count": 4,
   "metadata": {},
   "outputs": [
    {
     "name": "stdout",
     "output_type": "stream",
     "text": [
      "1.3.0\n",
      "1.21.0\n",
      "2.6.3\n",
      "4.61.2\n"
     ]
    }
   ],
   "source": [
    "import pandas as pd, numpy as np\n",
    "import networkx as nx\n",
    "import tqdm\n",
    "print(pd.__version__)\n",
    "print(np.__version__)\n",
    "print(nx.__version__)\n",
    "print(tqdm.__version__)"
   ]
  },
  {
   "cell_type": "code",
   "execution_count": 1,
   "metadata": {},
   "outputs": [],
   "source": [
    "import tweepy as tw"
   ]
  },
  {
   "cell_type": "code",
   "execution_count": 2,
   "metadata": {},
   "outputs": [
    {
     "data": {
      "text/plain": [
       "'3.10.0'"
      ]
     },
     "execution_count": 2,
     "metadata": {},
     "output_type": "execute_result"
    }
   ],
   "source": [
    "tw.__version__"
   ]
  },
  {
   "cell_type": "code",
   "execution_count": 2,
   "metadata": {},
   "outputs": [],
   "source": [
    "# Importamos librerías\n",
    "\n",
    "import json, pandas as pd, numpy as np\n",
    "from tqdm.notebook import tqdm\n",
    "import tweepy as tw\n",
    "import re\n",
    "from datetime import datetime as dt\n",
    "import time\n",
    "import sys\n",
    "import os\n",
    "from pathlib import Path\n",
    "import sqlite3\n",
    "\n",
    "pd.set_option('display.max_rows', 100)\n",
    "pd.set_option('display.max_columns', 500)\n",
    "pd.set_option('display.float_format', lambda x: '%.5f' % x)"
   ]
  },
  {
   "cell_type": "code",
   "execution_count": 3,
   "metadata": {},
   "outputs": [],
   "source": [
    "def insert_data(df, connect_name = 'example.db', table_name = 'nodos',connection=''):\n",
    "    import pandas as pd, sqlite3, sys, traceback\n",
    "    \"\"\"Recibe un dataframe y carga cada una de sus filas como una fila nueva en la base.\"\"\"\n",
    "    # armo query. Todos los datos entran como STR\n",
    "    cols = ','.join(df.columns)\n",
    "    list_values = [[str(v) for v in d.values()] for d in df.to_dict('records')]\n",
    "    value_string = [tuple(v) for v in list_values]\n",
    "    v_query = ['?' for c in df.columns]\n",
    "    v_query = '(' + ','.join(v_query) + ')'\n",
    "    query = f'INSERT INTO {table_name} ({cols}) VALUES {v_query}'\n",
    "    \n",
    "    con  = connection\n",
    "    \n",
    "    # inserto y guardo\n",
    "    try:\n",
    "        cursor = con.cursor()\n",
    "        cursor.executemany(query, value_string)\n",
    "        con.commit()\n",
    "        print(cursor.rowcount, 'Registro(s) insertado(s) con éxito')\n",
    "        \n",
    "    except sqlite3.Error as er:\n",
    "        print('SQLite error: %s' % (' '.join(er.args)))\n",
    "        print(\"Exception class is: \", er.__class__)\n",
    "        print('SQLite traceback: ')\n",
    "        exc_type, exc_value, exc_tb = sys.exc_info()\n",
    "        display(traceback.format_exception(exc_type, exc_value, exc_tb))"
   ]
  },
  {
   "cell_type": "code",
   "execution_count": 4,
   "metadata": {},
   "outputs": [],
   "source": [
    "def remove_duplicates(connection='', table_name=''):\n",
    "    \"\"\"Elimina duplicados de la BD\"\"\"\n",
    "    \n",
    "    pd.read_sql(f'SELECT DISTINCT * from {table_name}', con).to_sql(table_name, index=False, if_exists='replace', con=connection)"
   ]
  },
  {
   "cell_type": "code",
   "execution_count": 5,
   "metadata": {},
   "outputs": [],
   "source": [
    "#Cargamos las credenciales desde el archivo .json\n",
    "\n",
    "with open('recursos\\TomasappKeys.txt') as f:\n",
    "    consumer_key_1 = f.readline().split('\"')[1]\n",
    "    consumer_secret_1 = f.readline().split('\"')[1]\n",
    "    access_key_1 = f.readline().split('\"')[1]\n",
    "    access_secret_1 = f.readline().split('\"')[1]\n",
    "    \n",
    "with open('recursos\\Tomi B keys.txt') as f:\n",
    "    consumer_key_2 = f.readline().split('\"')[1]\n",
    "    consumer_secret_2 = f.readline().split('\"')[1]\n",
    "    access_key_2 = f.readline().split('\"')[1]\n",
    "    access_secret_2 = f.readline().split('\"')[1]"
   ]
  },
  {
   "cell_type": "code",
   "execution_count": 6,
   "metadata": {},
   "outputs": [],
   "source": [
    "# Credenciales Tomi \n",
    "\n",
    "auth = tw.OAuthHandler(consumer_key_1, consumer_secret_1)\n",
    "auth.set_access_token(access_key_1, access_secret_1)\n",
    "api_p = tw.API(auth, wait_on_rate_limit=True, wait_on_rate_limit_notify=True)"
   ]
  },
  {
   "cell_type": "code",
   "execution_count": 7,
   "metadata": {},
   "outputs": [],
   "source": [
    "# Credenciales Tomi \n",
    "\n",
    "auth = tw.OAuthHandler(consumer_key_2, consumer_secret_2)\n",
    "auth.set_access_token(access_key_2, access_secret_2)\n",
    "api_b = tw.API(auth, wait_on_rate_limit=True, wait_on_rate_limit_notify=True)    "
   ]
  },
  {
   "cell_type": "code",
   "execution_count": 8,
   "metadata": {},
   "outputs": [],
   "source": [
    "api = api_p"
   ]
  },
  {
   "cell_type": "code",
   "execution_count": 9,
   "metadata": {},
   "outputs": [
    {
     "name": "stdout",
     "output_type": "stream",
     "text": [
      "<class 'sqlite3.Connection'>\n"
     ]
    },
    {
     "data": {
      "text/html": [
       "<div>\n",
       "<style scoped>\n",
       "    .dataframe tbody tr th:only-of-type {\n",
       "        vertical-align: middle;\n",
       "    }\n",
       "\n",
       "    .dataframe tbody tr th {\n",
       "        vertical-align: top;\n",
       "    }\n",
       "\n",
       "    .dataframe thead th {\n",
       "        text-align: right;\n",
       "    }\n",
       "</style>\n",
       "<table border=\"1\" class=\"dataframe\">\n",
       "  <thead>\n",
       "    <tr style=\"text-align: right;\">\n",
       "      <th></th>\n",
       "      <th>nodo1</th>\n",
       "      <th>relacion</th>\n",
       "      <th>nodo2</th>\n",
       "    </tr>\n",
       "  </thead>\n",
       "  <tbody>\n",
       "  </tbody>\n",
       "</table>\n",
       "</div>"
      ],
      "text/plain": [
       "Empty DataFrame\n",
       "Columns: [nodo1, relacion, nodo2]\n",
       "Index: []"
      ]
     },
     "metadata": {},
     "output_type": "display_data"
    }
   ],
   "source": [
    "# creación de tabla\n",
    "con = sqlite3.connect('bases\\example.db')\n",
    "print(type(con))\n",
    "df = pd.DataFrame(columns=['nodo1','relacion','nodo2'])\n",
    "display(df)\n",
    "df.to_sql('relaciones', con, index=False)\n",
    "con.close()"
   ]
  },
  {
   "cell_type": "code",
   "execution_count": 10,
   "metadata": {},
   "outputs": [],
   "source": [
    "# inicializamos BD\n",
    "con = sqlite3.connect('bases\\example.db')\n",
    "cursor = con.cursor()"
   ]
  },
  {
   "cell_type": "code",
   "execution_count": 11,
   "metadata": {},
   "outputs": [
    {
     "data": {
      "text/html": [
       "<div>\n",
       "<style scoped>\n",
       "    .dataframe tbody tr th:only-of-type {\n",
       "        vertical-align: middle;\n",
       "    }\n",
       "\n",
       "    .dataframe tbody tr th {\n",
       "        vertical-align: top;\n",
       "    }\n",
       "\n",
       "    .dataframe thead th {\n",
       "        text-align: right;\n",
       "    }\n",
       "</style>\n",
       "<table border=\"1\" class=\"dataframe\">\n",
       "  <thead>\n",
       "    <tr style=\"text-align: right;\">\n",
       "      <th></th>\n",
       "      <th>nodo1</th>\n",
       "      <th>relacion</th>\n",
       "      <th>nodo2</th>\n",
       "    </tr>\n",
       "  </thead>\n",
       "  <tbody>\n",
       "  </tbody>\n",
       "</table>\n",
       "</div>"
      ],
      "text/plain": [
       "Empty DataFrame\n",
       "Columns: [nodo1, relacion, nodo2]\n",
       "Index: []"
      ]
     },
     "execution_count": 11,
     "metadata": {},
     "output_type": "execute_result"
    }
   ],
   "source": [
    "pd.read_sql('SELECT * from relaciones', con)#.duplicated().sum()"
   ]
  },
  {
   "cell_type": "markdown",
   "metadata": {},
   "source": [
    "### Notacion de relaciones\n",
    "La idea es hacerlo flexible por si necesitamos agregar tipo de relaciones. Por ahora solo tenemos la de seguidor.\n",
    "\n",
    "\n",
    "1 = Seguidor"
   ]
  },
  {
   "cell_type": "markdown",
   "metadata": {},
   "source": [
    "### Momento 0\n",
    "Si arrancaramos con un referente."
   ]
  },
  {
   "cell_type": "code",
   "execution_count": 12,
   "metadata": {},
   "outputs": [],
   "source": [
    "# # Definiciones\n",
    "\n",
    "# referente = 'tomitomastomate'\n",
    "\n",
    "# # Seguidores de nuestro referente\n",
    "# api = api_p\n",
    "# lista_followers = []\n",
    "# followers = tw.Cursor(api.followers_ids, screen_name=referente).items()\n",
    "# for user in followers:\n",
    "#     lista_followers.append(user)\n",
    "# len(lista_followers)"
   ]
  },
  {
   "cell_type": "markdown",
   "metadata": {},
   "source": [
    "### Momento 0\n",
    "Si arrancaramos con una lista de referentes."
   ]
  },
  {
   "cell_type": "code",
   "execution_count": 13,
   "metadata": {},
   "outputs": [
    {
     "name": "stdout",
     "output_type": "stream",
     "text": [
      "73\n"
     ]
    },
    {
     "data": {
      "application/vnd.jupyter.widget-view+json": {
       "model_id": "a1371c434ae942ca89d88a606891135e",
       "version_major": 2,
       "version_minor": 0
      },
      "text/plain": [
       "  0%|          | 0/73 [00:00<?, ?it/s]"
      ]
     },
     "metadata": {},
     "output_type": "display_data"
    },
    {
     "name": "stdout",
     "output_type": "stream",
     "text": [
      "73\n",
      "Screen name:  tomitomastomate \n",
      "ID:  2806375215\n"
     ]
    }
   ],
   "source": [
    "lista = pd.read_excel('recursos/Red de TW de estudiantxs de Sociología (respuestas).xlsx', sheet_name='clean')['usuario_clean'].tolist()\n",
    "print(len(lista))\n",
    "\n",
    "lista_ids = []\n",
    "for screen_name in tqdm(lista):\n",
    "    try:\n",
    "        user_id = api.get_user(screen_name).id_str\n",
    "        lista_ids.append(user_id)\n",
    "    except tw.TweepError as ex:\n",
    "        print(screen_name, ex)\n",
    "print(len(lista_ids))\n",
    "print('Screen name: ',lista[0], '\\nID: ', lista_ids[0])\n",
    "\n",
    "pd.DataFrame(index=lista_ids, data=lista, columns=['screen_name']).to_excel('recursos/red + ID.xlsx')"
   ]
  },
  {
   "cell_type": "code",
   "execution_count": 14,
   "metadata": {
    "tags": []
   },
   "outputs": [
    {
     "data": {
      "application/vnd.jupyter.widget-view+json": {
       "model_id": "ee8f7173ae9d46748a7ffb97a6af5b22",
       "version_major": 2,
       "version_minor": 0
      },
      "text/plain": [
       "Seguidores de referentes:   0%|          | 0/73 [00:00<?, ?it/s]"
      ]
     },
     "metadata": {},
     "output_type": "display_data"
    },
    {
     "data": {
      "application/vnd.jupyter.widget-view+json": {
       "model_id": "",
       "version_major": 2,
       "version_minor": 0
      },
      "text/plain": [
       "Seguidores de seguidores: 0it [00:00, ?it/s]"
      ]
     },
     "metadata": {},
     "output_type": "display_data"
    },
    {
     "name": "stdout",
     "output_type": "stream",
     "text": [
      "Follower n°: 1\n",
      "215 Registro(s) insertado(s) con éxito\n"
     ]
    },
    {
     "data": {
      "application/vnd.jupyter.widget-view+json": {
       "model_id": "",
       "version_major": 2,
       "version_minor": 0
      },
      "text/plain": [
       "Seguidores de seguidores: 0it [00:00, ?it/s]"
      ]
     },
     "metadata": {},
     "output_type": "display_data"
    },
    {
     "name": "stdout",
     "output_type": "stream",
     "text": [
      "Follower n°: 2\n",
      "812 Registro(s) insertado(s) con éxito\n"
     ]
    },
    {
     "data": {
      "application/vnd.jupyter.widget-view+json": {
       "model_id": "",
       "version_major": 2,
       "version_minor": 0
      },
      "text/plain": [
       "Seguidores de seguidores: 0it [00:00, ?it/s]"
      ]
     },
     "metadata": {},
     "output_type": "display_data"
    },
    {
     "name": "stdout",
     "output_type": "stream",
     "text": [
      "Follower n°: 3\n",
      "135 Registro(s) insertado(s) con éxito\n"
     ]
    },
    {
     "data": {
      "application/vnd.jupyter.widget-view+json": {
       "model_id": "",
       "version_major": 2,
       "version_minor": 0
      },
      "text/plain": [
       "Seguidores de seguidores: 0it [00:00, ?it/s]"
      ]
     },
     "metadata": {},
     "output_type": "display_data"
    },
    {
     "name": "stdout",
     "output_type": "stream",
     "text": [
      "Follower n°: 4\n",
      "522 Registro(s) insertado(s) con éxito\n"
     ]
    },
    {
     "data": {
      "application/vnd.jupyter.widget-view+json": {
       "model_id": "",
       "version_major": 2,
       "version_minor": 0
      },
      "text/plain": [
       "Seguidores de seguidores: 0it [00:00, ?it/s]"
      ]
     },
     "metadata": {},
     "output_type": "display_data"
    },
    {
     "name": "stdout",
     "output_type": "stream",
     "text": [
      "Follower n°: 5\n",
      "3605 Registro(s) insertado(s) con éxito\n"
     ]
    },
    {
     "data": {
      "application/vnd.jupyter.widget-view+json": {
       "model_id": "",
       "version_major": 2,
       "version_minor": 0
      },
      "text/plain": [
       "Seguidores de seguidores: 0it [00:00, ?it/s]"
      ]
     },
     "metadata": {},
     "output_type": "display_data"
    },
    {
     "name": "stdout",
     "output_type": "stream",
     "text": [
      "Follower n°: 6\n",
      "9 Registro(s) insertado(s) con éxito\n"
     ]
    },
    {
     "data": {
      "application/vnd.jupyter.widget-view+json": {
       "model_id": "",
       "version_major": 2,
       "version_minor": 0
      },
      "text/plain": [
       "Seguidores de seguidores: 0it [00:00, ?it/s]"
      ]
     },
     "metadata": {},
     "output_type": "display_data"
    },
    {
     "name": "stdout",
     "output_type": "stream",
     "text": [
      "Follower n°: 7\n",
      "142 Registro(s) insertado(s) con éxito\n"
     ]
    },
    {
     "data": {
      "application/vnd.jupyter.widget-view+json": {
       "model_id": "",
       "version_major": 2,
       "version_minor": 0
      },
      "text/plain": [
       "Seguidores de seguidores: 0it [00:00, ?it/s]"
      ]
     },
     "metadata": {},
     "output_type": "display_data"
    },
    {
     "name": "stdout",
     "output_type": "stream",
     "text": [
      "Follower n°: 8\n",
      "404 Registro(s) insertado(s) con éxito\n"
     ]
    },
    {
     "data": {
      "application/vnd.jupyter.widget-view+json": {
       "model_id": "",
       "version_major": 2,
       "version_minor": 0
      },
      "text/plain": [
       "Seguidores de seguidores: 0it [00:00, ?it/s]"
      ]
     },
     "metadata": {},
     "output_type": "display_data"
    },
    {
     "name": "stdout",
     "output_type": "stream",
     "text": [
      "195073186 es privado. Posición 8\n",
      "Follower n°: 9\n",
      "SQLite error: near \")\": syntax error\n",
      "Exception class is:  <class 'sqlite3.OperationalError'>\n",
      "SQLite traceback: \n"
     ]
    },
    {
     "data": {
      "text/plain": [
       "['Traceback (most recent call last):\\n',\n",
       " '  File \"C:\\\\Users\\\\Usuario\\\\AppData\\\\Local\\\\Temp/ipykernel_15408/2742859446.py\", line 17, in insert_data\\n    cursor.executemany(query, value_string)\\n',\n",
       " 'sqlite3.OperationalError: near \")\": syntax error\\n']"
      ]
     },
     "metadata": {},
     "output_type": "display_data"
    },
    {
     "data": {
      "application/vnd.jupyter.widget-view+json": {
       "model_id": "",
       "version_major": 2,
       "version_minor": 0
      },
      "text/plain": [
       "Seguidores de seguidores: 0it [00:00, ?it/s]"
      ]
     },
     "metadata": {},
     "output_type": "display_data"
    },
    {
     "name": "stdout",
     "output_type": "stream",
     "text": [
      "Follower n°: 10\n",
      "1602 Registro(s) insertado(s) con éxito\n"
     ]
    },
    {
     "data": {
      "application/vnd.jupyter.widget-view+json": {
       "model_id": "",
       "version_major": 2,
       "version_minor": 0
      },
      "text/plain": [
       "Seguidores de seguidores: 0it [00:00, ?it/s]"
      ]
     },
     "metadata": {},
     "output_type": "display_data"
    },
    {
     "name": "stdout",
     "output_type": "stream",
     "text": [
      "Follower n°: 11\n",
      "146 Registro(s) insertado(s) con éxito\n"
     ]
    },
    {
     "data": {
      "application/vnd.jupyter.widget-view+json": {
       "model_id": "",
       "version_major": 2,
       "version_minor": 0
      },
      "text/plain": [
       "Seguidores de seguidores: 0it [00:00, ?it/s]"
      ]
     },
     "metadata": {},
     "output_type": "display_data"
    },
    {
     "name": "stdout",
     "output_type": "stream",
     "text": [
      "Follower n°: 12\n",
      "252 Registro(s) insertado(s) con éxito\n"
     ]
    },
    {
     "data": {
      "application/vnd.jupyter.widget-view+json": {
       "model_id": "",
       "version_major": 2,
       "version_minor": 0
      },
      "text/plain": [
       "Seguidores de seguidores: 0it [00:00, ?it/s]"
      ]
     },
     "metadata": {},
     "output_type": "display_data"
    },
    {
     "name": "stdout",
     "output_type": "stream",
     "text": [
      "Follower n°: 13\n",
      "2014 Registro(s) insertado(s) con éxito\n"
     ]
    },
    {
     "data": {
      "application/vnd.jupyter.widget-view+json": {
       "model_id": "",
       "version_major": 2,
       "version_minor": 0
      },
      "text/plain": [
       "Seguidores de seguidores: 0it [00:00, ?it/s]"
      ]
     },
     "metadata": {},
     "output_type": "display_data"
    },
    {
     "name": "stdout",
     "output_type": "stream",
     "text": [
      "Follower n°: 14\n",
      "530 Registro(s) insertado(s) con éxito\n"
     ]
    },
    {
     "data": {
      "application/vnd.jupyter.widget-view+json": {
       "model_id": "",
       "version_major": 2,
       "version_minor": 0
      },
      "text/plain": [
       "Seguidores de seguidores: 0it [00:00, ?it/s]"
      ]
     },
     "metadata": {},
     "output_type": "display_data"
    },
    {
     "name": "stdout",
     "output_type": "stream",
     "text": [
      "2176483626 es privado. Posición 14\n",
      "Follower n°: 15\n",
      "SQLite error: near \")\": syntax error\n",
      "Exception class is:  <class 'sqlite3.OperationalError'>\n",
      "SQLite traceback: \n"
     ]
    },
    {
     "data": {
      "text/plain": [
       "['Traceback (most recent call last):\\n',\n",
       " '  File \"C:\\\\Users\\\\Usuario\\\\AppData\\\\Local\\\\Temp/ipykernel_15408/2742859446.py\", line 17, in insert_data\\n    cursor.executemany(query, value_string)\\n',\n",
       " 'sqlite3.OperationalError: near \")\": syntax error\\n']"
      ]
     },
     "metadata": {},
     "output_type": "display_data"
    },
    {
     "data": {
      "application/vnd.jupyter.widget-view+json": {
       "model_id": "",
       "version_major": 2,
       "version_minor": 0
      },
      "text/plain": [
       "Seguidores de seguidores: 0it [00:00, ?it/s]"
      ]
     },
     "metadata": {},
     "output_type": "display_data"
    },
    {
     "name": "stderr",
     "output_type": "stream",
     "text": [
      "Rate limit reached. Sleeping for: 814\n"
     ]
    },
    {
     "name": "stdout",
     "output_type": "stream",
     "text": [
      "Follower n°: 16\n",
      "227 Registro(s) insertado(s) con éxito\n"
     ]
    },
    {
     "data": {
      "application/vnd.jupyter.widget-view+json": {
       "model_id": "",
       "version_major": 2,
       "version_minor": 0
      },
      "text/plain": [
       "Seguidores de seguidores: 0it [00:00, ?it/s]"
      ]
     },
     "metadata": {},
     "output_type": "display_data"
    },
    {
     "name": "stdout",
     "output_type": "stream",
     "text": [
      "Follower n°: 17\n",
      "351 Registro(s) insertado(s) con éxito\n"
     ]
    },
    {
     "data": {
      "application/vnd.jupyter.widget-view+json": {
       "model_id": "",
       "version_major": 2,
       "version_minor": 0
      },
      "text/plain": [
       "Seguidores de seguidores: 0it [00:00, ?it/s]"
      ]
     },
     "metadata": {},
     "output_type": "display_data"
    },
    {
     "name": "stdout",
     "output_type": "stream",
     "text": [
      "Follower n°: 18\n",
      "11 Registro(s) insertado(s) con éxito\n"
     ]
    },
    {
     "data": {
      "application/vnd.jupyter.widget-view+json": {
       "model_id": "",
       "version_major": 2,
       "version_minor": 0
      },
      "text/plain": [
       "Seguidores de seguidores: 0it [00:00, ?it/s]"
      ]
     },
     "metadata": {},
     "output_type": "display_data"
    },
    {
     "name": "stdout",
     "output_type": "stream",
     "text": [
      "Follower n°: 19\n",
      "970 Registro(s) insertado(s) con éxito\n"
     ]
    },
    {
     "data": {
      "application/vnd.jupyter.widget-view+json": {
       "model_id": "",
       "version_major": 2,
       "version_minor": 0
      },
      "text/plain": [
       "Seguidores de seguidores: 0it [00:00, ?it/s]"
      ]
     },
     "metadata": {},
     "output_type": "display_data"
    },
    {
     "name": "stdout",
     "output_type": "stream",
     "text": [
      "1041277286 es privado. Posición 19\n",
      "Follower n°: 20\n",
      "SQLite error: near \")\": syntax error\n",
      "Exception class is:  <class 'sqlite3.OperationalError'>\n",
      "SQLite traceback: \n"
     ]
    },
    {
     "data": {
      "text/plain": [
       "['Traceback (most recent call last):\\n',\n",
       " '  File \"C:\\\\Users\\\\Usuario\\\\AppData\\\\Local\\\\Temp/ipykernel_15408/2742859446.py\", line 17, in insert_data\\n    cursor.executemany(query, value_string)\\n',\n",
       " 'sqlite3.OperationalError: near \")\": syntax error\\n']"
      ]
     },
     "metadata": {},
     "output_type": "display_data"
    },
    {
     "data": {
      "application/vnd.jupyter.widget-view+json": {
       "model_id": "",
       "version_major": 2,
       "version_minor": 0
      },
      "text/plain": [
       "Seguidores de seguidores: 0it [00:00, ?it/s]"
      ]
     },
     "metadata": {},
     "output_type": "display_data"
    },
    {
     "name": "stdout",
     "output_type": "stream",
     "text": [
      "Follower n°: 21\n",
      "534 Registro(s) insertado(s) con éxito\n"
     ]
    },
    {
     "data": {
      "application/vnd.jupyter.widget-view+json": {
       "model_id": "",
       "version_major": 2,
       "version_minor": 0
      },
      "text/plain": [
       "Seguidores de seguidores: 0it [00:00, ?it/s]"
      ]
     },
     "metadata": {},
     "output_type": "display_data"
    },
    {
     "name": "stdout",
     "output_type": "stream",
     "text": [
      "Follower n°: 22\n",
      "941 Registro(s) insertado(s) con éxito\n"
     ]
    },
    {
     "data": {
      "application/vnd.jupyter.widget-view+json": {
       "model_id": "",
       "version_major": 2,
       "version_minor": 0
      },
      "text/plain": [
       "Seguidores de seguidores: 0it [00:00, ?it/s]"
      ]
     },
     "metadata": {},
     "output_type": "display_data"
    },
    {
     "name": "stdout",
     "output_type": "stream",
     "text": [
      "Follower n°: 23\n",
      "165 Registro(s) insertado(s) con éxito\n"
     ]
    },
    {
     "data": {
      "application/vnd.jupyter.widget-view+json": {
       "model_id": "",
       "version_major": 2,
       "version_minor": 0
      },
      "text/plain": [
       "Seguidores de seguidores: 0it [00:00, ?it/s]"
      ]
     },
     "metadata": {},
     "output_type": "display_data"
    },
    {
     "name": "stdout",
     "output_type": "stream",
     "text": [
      "Follower n°: 24\n",
      "615 Registro(s) insertado(s) con éxito\n"
     ]
    },
    {
     "data": {
      "application/vnd.jupyter.widget-view+json": {
       "model_id": "",
       "version_major": 2,
       "version_minor": 0
      },
      "text/plain": [
       "Seguidores de seguidores: 0it [00:00, ?it/s]"
      ]
     },
     "metadata": {},
     "output_type": "display_data"
    },
    {
     "name": "stdout",
     "output_type": "stream",
     "text": [
      "Follower n°: 25\n",
      "2032 Registro(s) insertado(s) con éxito\n"
     ]
    },
    {
     "data": {
      "application/vnd.jupyter.widget-view+json": {
       "model_id": "",
       "version_major": 2,
       "version_minor": 0
      },
      "text/plain": [
       "Seguidores de seguidores: 0it [00:00, ?it/s]"
      ]
     },
     "metadata": {},
     "output_type": "display_data"
    },
    {
     "name": "stdout",
     "output_type": "stream",
     "text": [
      "2290267544 es privado. Posición 25\n",
      "Follower n°: 26\n",
      "SQLite error: near \")\": syntax error\n",
      "Exception class is:  <class 'sqlite3.OperationalError'>\n",
      "SQLite traceback: \n"
     ]
    },
    {
     "data": {
      "text/plain": [
       "['Traceback (most recent call last):\\n',\n",
       " '  File \"C:\\\\Users\\\\Usuario\\\\AppData\\\\Local\\\\Temp/ipykernel_15408/2742859446.py\", line 17, in insert_data\\n    cursor.executemany(query, value_string)\\n',\n",
       " 'sqlite3.OperationalError: near \")\": syntax error\\n']"
      ]
     },
     "metadata": {},
     "output_type": "display_data"
    },
    {
     "data": {
      "application/vnd.jupyter.widget-view+json": {
       "model_id": "",
       "version_major": 2,
       "version_minor": 0
      },
      "text/plain": [
       "Seguidores de seguidores: 0it [00:00, ?it/s]"
      ]
     },
     "metadata": {},
     "output_type": "display_data"
    },
    {
     "name": "stdout",
     "output_type": "stream",
     "text": [
      "Follower n°: 27\n",
      "194 Registro(s) insertado(s) con éxito\n"
     ]
    },
    {
     "data": {
      "application/vnd.jupyter.widget-view+json": {
       "model_id": "",
       "version_major": 2,
       "version_minor": 0
      },
      "text/plain": [
       "Seguidores de seguidores: 0it [00:00, ?it/s]"
      ]
     },
     "metadata": {},
     "output_type": "display_data"
    },
    {
     "name": "stdout",
     "output_type": "stream",
     "text": [
      "Follower n°: 28\n",
      "120 Registro(s) insertado(s) con éxito\n"
     ]
    },
    {
     "data": {
      "application/vnd.jupyter.widget-view+json": {
       "model_id": "",
       "version_major": 2,
       "version_minor": 0
      },
      "text/plain": [
       "Seguidores de seguidores: 0it [00:00, ?it/s]"
      ]
     },
     "metadata": {},
     "output_type": "display_data"
    },
    {
     "name": "stdout",
     "output_type": "stream",
     "text": [
      "Follower n°: 29\n",
      "256 Registro(s) insertado(s) con éxito\n"
     ]
    },
    {
     "data": {
      "application/vnd.jupyter.widget-view+json": {
       "model_id": "",
       "version_major": 2,
       "version_minor": 0
      },
      "text/plain": [
       "Seguidores de seguidores: 0it [00:00, ?it/s]"
      ]
     },
     "metadata": {},
     "output_type": "display_data"
    },
    {
     "name": "stdout",
     "output_type": "stream",
     "text": [
      "Follower n°: 30\n",
      "82 Registro(s) insertado(s) con éxito\n"
     ]
    },
    {
     "data": {
      "application/vnd.jupyter.widget-view+json": {
       "model_id": "",
       "version_major": 2,
       "version_minor": 0
      },
      "text/plain": [
       "Seguidores de seguidores: 0it [00:00, ?it/s]"
      ]
     },
     "metadata": {},
     "output_type": "display_data"
    },
    {
     "name": "stderr",
     "output_type": "stream",
     "text": [
      "Rate limit reached. Sleeping for: 850\n"
     ]
    },
    {
     "name": "stdout",
     "output_type": "stream",
     "text": [
      "398947003 es privado. Posición 30\n",
      "Follower n°: 31\n",
      "SQLite error: near \")\": syntax error\n",
      "Exception class is:  <class 'sqlite3.OperationalError'>\n",
      "SQLite traceback: \n"
     ]
    },
    {
     "data": {
      "text/plain": [
       "['Traceback (most recent call last):\\n',\n",
       " '  File \"C:\\\\Users\\\\Usuario\\\\AppData\\\\Local\\\\Temp/ipykernel_15408/2742859446.py\", line 17, in insert_data\\n    cursor.executemany(query, value_string)\\n',\n",
       " 'sqlite3.OperationalError: near \")\": syntax error\\n']"
      ]
     },
     "metadata": {},
     "output_type": "display_data"
    },
    {
     "data": {
      "application/vnd.jupyter.widget-view+json": {
       "model_id": "",
       "version_major": 2,
       "version_minor": 0
      },
      "text/plain": [
       "Seguidores de seguidores: 0it [00:00, ?it/s]"
      ]
     },
     "metadata": {},
     "output_type": "display_data"
    },
    {
     "name": "stdout",
     "output_type": "stream",
     "text": [
      "1330239787 es privado. Posición 31\n",
      "Follower n°: 32\n",
      "SQLite error: near \")\": syntax error\n",
      "Exception class is:  <class 'sqlite3.OperationalError'>\n",
      "SQLite traceback: \n"
     ]
    },
    {
     "data": {
      "text/plain": [
       "['Traceback (most recent call last):\\n',\n",
       " '  File \"C:\\\\Users\\\\Usuario\\\\AppData\\\\Local\\\\Temp/ipykernel_15408/2742859446.py\", line 17, in insert_data\\n    cursor.executemany(query, value_string)\\n',\n",
       " 'sqlite3.OperationalError: near \")\": syntax error\\n']"
      ]
     },
     "metadata": {},
     "output_type": "display_data"
    },
    {
     "data": {
      "application/vnd.jupyter.widget-view+json": {
       "model_id": "",
       "version_major": 2,
       "version_minor": 0
      },
      "text/plain": [
       "Seguidores de seguidores: 0it [00:00, ?it/s]"
      ]
     },
     "metadata": {},
     "output_type": "display_data"
    },
    {
     "name": "stdout",
     "output_type": "stream",
     "text": [
      "Follower n°: 33\n",
      "208 Registro(s) insertado(s) con éxito\n"
     ]
    },
    {
     "data": {
      "application/vnd.jupyter.widget-view+json": {
       "model_id": "",
       "version_major": 2,
       "version_minor": 0
      },
      "text/plain": [
       "Seguidores de seguidores: 0it [00:00, ?it/s]"
      ]
     },
     "metadata": {},
     "output_type": "display_data"
    },
    {
     "name": "stdout",
     "output_type": "stream",
     "text": [
      "192005869 es privado. Posición 33\n",
      "Follower n°: 34\n",
      "SQLite error: near \")\": syntax error\n",
      "Exception class is:  <class 'sqlite3.OperationalError'>\n",
      "SQLite traceback: \n"
     ]
    },
    {
     "data": {
      "text/plain": [
       "['Traceback (most recent call last):\\n',\n",
       " '  File \"C:\\\\Users\\\\Usuario\\\\AppData\\\\Local\\\\Temp/ipykernel_15408/2742859446.py\", line 17, in insert_data\\n    cursor.executemany(query, value_string)\\n',\n",
       " 'sqlite3.OperationalError: near \")\": syntax error\\n']"
      ]
     },
     "metadata": {},
     "output_type": "display_data"
    },
    {
     "data": {
      "application/vnd.jupyter.widget-view+json": {
       "model_id": "",
       "version_major": 2,
       "version_minor": 0
      },
      "text/plain": [
       "Seguidores de seguidores: 0it [00:00, ?it/s]"
      ]
     },
     "metadata": {},
     "output_type": "display_data"
    },
    {
     "name": "stdout",
     "output_type": "stream",
     "text": [
      "909257384 es privado. Posición 34\n",
      "Follower n°: 35\n",
      "SQLite error: near \")\": syntax error\n",
      "Exception class is:  <class 'sqlite3.OperationalError'>\n",
      "SQLite traceback: \n"
     ]
    },
    {
     "data": {
      "text/plain": [
       "['Traceback (most recent call last):\\n',\n",
       " '  File \"C:\\\\Users\\\\Usuario\\\\AppData\\\\Local\\\\Temp/ipykernel_15408/2742859446.py\", line 17, in insert_data\\n    cursor.executemany(query, value_string)\\n',\n",
       " 'sqlite3.OperationalError: near \")\": syntax error\\n']"
      ]
     },
     "metadata": {},
     "output_type": "display_data"
    },
    {
     "data": {
      "application/vnd.jupyter.widget-view+json": {
       "model_id": "",
       "version_major": 2,
       "version_minor": 0
      },
      "text/plain": [
       "Seguidores de seguidores: 0it [00:00, ?it/s]"
      ]
     },
     "metadata": {},
     "output_type": "display_data"
    },
    {
     "name": "stdout",
     "output_type": "stream",
     "text": [
      "Follower n°: 36\n",
      "294 Registro(s) insertado(s) con éxito\n"
     ]
    },
    {
     "data": {
      "application/vnd.jupyter.widget-view+json": {
       "model_id": "",
       "version_major": 2,
       "version_minor": 0
      },
      "text/plain": [
       "Seguidores de seguidores: 0it [00:00, ?it/s]"
      ]
     },
     "metadata": {},
     "output_type": "display_data"
    },
    {
     "name": "stdout",
     "output_type": "stream",
     "text": [
      "Follower n°: 37\n",
      "309 Registro(s) insertado(s) con éxito\n"
     ]
    },
    {
     "data": {
      "application/vnd.jupyter.widget-view+json": {
       "model_id": "",
       "version_major": 2,
       "version_minor": 0
      },
      "text/plain": [
       "Seguidores de seguidores: 0it [00:00, ?it/s]"
      ]
     },
     "metadata": {},
     "output_type": "display_data"
    },
    {
     "name": "stdout",
     "output_type": "stream",
     "text": [
      "Follower n°: 38\n",
      "697 Registro(s) insertado(s) con éxito\n"
     ]
    },
    {
     "data": {
      "application/vnd.jupyter.widget-view+json": {
       "model_id": "",
       "version_major": 2,
       "version_minor": 0
      },
      "text/plain": [
       "Seguidores de seguidores: 0it [00:00, ?it/s]"
      ]
     },
     "metadata": {},
     "output_type": "display_data"
    },
    {
     "name": "stdout",
     "output_type": "stream",
     "text": [
      "Follower n°: 39\n",
      "576 Registro(s) insertado(s) con éxito\n"
     ]
    },
    {
     "data": {
      "application/vnd.jupyter.widget-view+json": {
       "model_id": "",
       "version_major": 2,
       "version_minor": 0
      },
      "text/plain": [
       "Seguidores de seguidores: 0it [00:00, ?it/s]"
      ]
     },
     "metadata": {},
     "output_type": "display_data"
    },
    {
     "name": "stdout",
     "output_type": "stream",
     "text": [
      "Follower n°: 40\n",
      "162 Registro(s) insertado(s) con éxito\n"
     ]
    },
    {
     "data": {
      "application/vnd.jupyter.widget-view+json": {
       "model_id": "",
       "version_major": 2,
       "version_minor": 0
      },
      "text/plain": [
       "Seguidores de seguidores: 0it [00:00, ?it/s]"
      ]
     },
     "metadata": {},
     "output_type": "display_data"
    },
    {
     "name": "stdout",
     "output_type": "stream",
     "text": [
      "Follower n°: 41\n",
      "129 Registro(s) insertado(s) con éxito\n"
     ]
    },
    {
     "data": {
      "application/vnd.jupyter.widget-view+json": {
       "model_id": "",
       "version_major": 2,
       "version_minor": 0
      },
      "text/plain": [
       "Seguidores de seguidores: 0it [00:00, ?it/s]"
      ]
     },
     "metadata": {},
     "output_type": "display_data"
    },
    {
     "name": "stdout",
     "output_type": "stream",
     "text": [
      "174095640 es privado. Posición 41\n",
      "Follower n°: 42\n",
      "SQLite error: near \")\": syntax error\n",
      "Exception class is:  <class 'sqlite3.OperationalError'>\n",
      "SQLite traceback: \n"
     ]
    },
    {
     "data": {
      "text/plain": [
       "['Traceback (most recent call last):\\n',\n",
       " '  File \"C:\\\\Users\\\\Usuario\\\\AppData\\\\Local\\\\Temp/ipykernel_15408/2742859446.py\", line 17, in insert_data\\n    cursor.executemany(query, value_string)\\n',\n",
       " 'sqlite3.OperationalError: near \")\": syntax error\\n']"
      ]
     },
     "metadata": {},
     "output_type": "display_data"
    },
    {
     "data": {
      "application/vnd.jupyter.widget-view+json": {
       "model_id": "",
       "version_major": 2,
       "version_minor": 0
      },
      "text/plain": [
       "Seguidores de seguidores: 0it [00:00, ?it/s]"
      ]
     },
     "metadata": {},
     "output_type": "display_data"
    },
    {
     "name": "stdout",
     "output_type": "stream",
     "text": [
      "Follower n°: 43\n",
      "56 Registro(s) insertado(s) con éxito\n"
     ]
    },
    {
     "data": {
      "application/vnd.jupyter.widget-view+json": {
       "model_id": "",
       "version_major": 2,
       "version_minor": 0
      },
      "text/plain": [
       "Seguidores de seguidores: 0it [00:00, ?it/s]"
      ]
     },
     "metadata": {},
     "output_type": "display_data"
    },
    {
     "name": "stdout",
     "output_type": "stream",
     "text": [
      "Follower n°: 44\n",
      "78 Registro(s) insertado(s) con éxito\n"
     ]
    },
    {
     "data": {
      "application/vnd.jupyter.widget-view+json": {
       "model_id": "",
       "version_major": 2,
       "version_minor": 0
      },
      "text/plain": [
       "Seguidores de seguidores: 0it [00:00, ?it/s]"
      ]
     },
     "metadata": {},
     "output_type": "display_data"
    },
    {
     "name": "stdout",
     "output_type": "stream",
     "text": [
      "Follower n°: 45\n",
      "650 Registro(s) insertado(s) con éxito\n"
     ]
    },
    {
     "data": {
      "application/vnd.jupyter.widget-view+json": {
       "model_id": "",
       "version_major": 2,
       "version_minor": 0
      },
      "text/plain": [
       "Seguidores de seguidores: 0it [00:00, ?it/s]"
      ]
     },
     "metadata": {},
     "output_type": "display_data"
    },
    {
     "name": "stderr",
     "output_type": "stream",
     "text": [
      "Rate limit reached. Sleeping for: 871\n"
     ]
    },
    {
     "name": "stdout",
     "output_type": "stream",
     "text": [
      "Follower n°: 46\n",
      "126 Registro(s) insertado(s) con éxito\n"
     ]
    },
    {
     "data": {
      "application/vnd.jupyter.widget-view+json": {
       "model_id": "",
       "version_major": 2,
       "version_minor": 0
      },
      "text/plain": [
       "Seguidores de seguidores: 0it [00:00, ?it/s]"
      ]
     },
     "metadata": {},
     "output_type": "display_data"
    },
    {
     "name": "stdout",
     "output_type": "stream",
     "text": [
      "Follower n°: 47\n",
      "86 Registro(s) insertado(s) con éxito\n"
     ]
    },
    {
     "data": {
      "application/vnd.jupyter.widget-view+json": {
       "model_id": "",
       "version_major": 2,
       "version_minor": 0
      },
      "text/plain": [
       "Seguidores de seguidores: 0it [00:00, ?it/s]"
      ]
     },
     "metadata": {},
     "output_type": "display_data"
    },
    {
     "name": "stdout",
     "output_type": "stream",
     "text": [
      "Follower n°: 48\n",
      "319 Registro(s) insertado(s) con éxito\n"
     ]
    },
    {
     "data": {
      "application/vnd.jupyter.widget-view+json": {
       "model_id": "",
       "version_major": 2,
       "version_minor": 0
      },
      "text/plain": [
       "Seguidores de seguidores: 0it [00:00, ?it/s]"
      ]
     },
     "metadata": {},
     "output_type": "display_data"
    },
    {
     "name": "stdout",
     "output_type": "stream",
     "text": [
      "Follower n°: 49\n",
      "278 Registro(s) insertado(s) con éxito\n"
     ]
    },
    {
     "data": {
      "application/vnd.jupyter.widget-view+json": {
       "model_id": "",
       "version_major": 2,
       "version_minor": 0
      },
      "text/plain": [
       "Seguidores de seguidores: 0it [00:00, ?it/s]"
      ]
     },
     "metadata": {},
     "output_type": "display_data"
    },
    {
     "name": "stdout",
     "output_type": "stream",
     "text": [
      "Follower n°: 50\n",
      "3348 Registro(s) insertado(s) con éxito\n"
     ]
    },
    {
     "data": {
      "application/vnd.jupyter.widget-view+json": {
       "model_id": "",
       "version_major": 2,
       "version_minor": 0
      },
      "text/plain": [
       "Seguidores de seguidores: 0it [00:00, ?it/s]"
      ]
     },
     "metadata": {},
     "output_type": "display_data"
    },
    {
     "name": "stdout",
     "output_type": "stream",
     "text": [
      "Follower n°: 51\n",
      "112 Registro(s) insertado(s) con éxito\n"
     ]
    },
    {
     "data": {
      "application/vnd.jupyter.widget-view+json": {
       "model_id": "",
       "version_major": 2,
       "version_minor": 0
      },
      "text/plain": [
       "Seguidores de seguidores: 0it [00:00, ?it/s]"
      ]
     },
     "metadata": {},
     "output_type": "display_data"
    },
    {
     "name": "stdout",
     "output_type": "stream",
     "text": [
      "Follower n°: 52\n",
      "37 Registro(s) insertado(s) con éxito\n"
     ]
    },
    {
     "data": {
      "application/vnd.jupyter.widget-view+json": {
       "model_id": "",
       "version_major": 2,
       "version_minor": 0
      },
      "text/plain": [
       "Seguidores de seguidores: 0it [00:00, ?it/s]"
      ]
     },
     "metadata": {},
     "output_type": "display_data"
    },
    {
     "name": "stdout",
     "output_type": "stream",
     "text": [
      "Follower n°: 53\n",
      "1357 Registro(s) insertado(s) con éxito\n"
     ]
    },
    {
     "data": {
      "application/vnd.jupyter.widget-view+json": {
       "model_id": "",
       "version_major": 2,
       "version_minor": 0
      },
      "text/plain": [
       "Seguidores de seguidores: 0it [00:00, ?it/s]"
      ]
     },
     "metadata": {},
     "output_type": "display_data"
    },
    {
     "name": "stdout",
     "output_type": "stream",
     "text": [
      "Follower n°: 54\n",
      "274 Registro(s) insertado(s) con éxito\n"
     ]
    },
    {
     "data": {
      "application/vnd.jupyter.widget-view+json": {
       "model_id": "",
       "version_major": 2,
       "version_minor": 0
      },
      "text/plain": [
       "Seguidores de seguidores: 0it [00:00, ?it/s]"
      ]
     },
     "metadata": {},
     "output_type": "display_data"
    },
    {
     "name": "stdout",
     "output_type": "stream",
     "text": [
      "Follower n°: 55\n",
      "817 Registro(s) insertado(s) con éxito\n"
     ]
    },
    {
     "data": {
      "application/vnd.jupyter.widget-view+json": {
       "model_id": "",
       "version_major": 2,
       "version_minor": 0
      },
      "text/plain": [
       "Seguidores de seguidores: 0it [00:00, ?it/s]"
      ]
     },
     "metadata": {},
     "output_type": "display_data"
    },
    {
     "name": "stdout",
     "output_type": "stream",
     "text": [
      "Follower n°: 56\n",
      "19 Registro(s) insertado(s) con éxito\n"
     ]
    },
    {
     "data": {
      "application/vnd.jupyter.widget-view+json": {
       "model_id": "",
       "version_major": 2,
       "version_minor": 0
      },
      "text/plain": [
       "Seguidores de seguidores: 0it [00:00, ?it/s]"
      ]
     },
     "metadata": {},
     "output_type": "display_data"
    },
    {
     "name": "stdout",
     "output_type": "stream",
     "text": [
      "Follower n°: 57\n",
      "668 Registro(s) insertado(s) con éxito\n"
     ]
    },
    {
     "data": {
      "application/vnd.jupyter.widget-view+json": {
       "model_id": "",
       "version_major": 2,
       "version_minor": 0
      },
      "text/plain": [
       "Seguidores de seguidores: 0it [00:00, ?it/s]"
      ]
     },
     "metadata": {},
     "output_type": "display_data"
    },
    {
     "name": "stdout",
     "output_type": "stream",
     "text": [
      "Follower n°: 58\n",
      "407 Registro(s) insertado(s) con éxito\n"
     ]
    },
    {
     "data": {
      "application/vnd.jupyter.widget-view+json": {
       "model_id": "",
       "version_major": 2,
       "version_minor": 0
      },
      "text/plain": [
       "Seguidores de seguidores: 0it [00:00, ?it/s]"
      ]
     },
     "metadata": {},
     "output_type": "display_data"
    },
    {
     "name": "stdout",
     "output_type": "stream",
     "text": [
      "Follower n°: 59\n",
      "459 Registro(s) insertado(s) con éxito\n"
     ]
    },
    {
     "data": {
      "application/vnd.jupyter.widget-view+json": {
       "model_id": "",
       "version_major": 2,
       "version_minor": 0
      },
      "text/plain": [
       "Seguidores de seguidores: 0it [00:00, ?it/s]"
      ]
     },
     "metadata": {},
     "output_type": "display_data"
    },
    {
     "name": "stdout",
     "output_type": "stream",
     "text": [
      "Follower n°: 60\n",
      "119 Registro(s) insertado(s) con éxito\n"
     ]
    },
    {
     "data": {
      "application/vnd.jupyter.widget-view+json": {
       "model_id": "",
       "version_major": 2,
       "version_minor": 0
      },
      "text/plain": [
       "Seguidores de seguidores: 0it [00:00, ?it/s]"
      ]
     },
     "metadata": {},
     "output_type": "display_data"
    },
    {
     "name": "stderr",
     "output_type": "stream",
     "text": [
      "Rate limit reached. Sleeping for: 838\n"
     ]
    },
    {
     "name": "stdout",
     "output_type": "stream",
     "text": [
      "Follower n°: 61\n",
      "351 Registro(s) insertado(s) con éxito\n"
     ]
    },
    {
     "data": {
      "application/vnd.jupyter.widget-view+json": {
       "model_id": "",
       "version_major": 2,
       "version_minor": 0
      },
      "text/plain": [
       "Seguidores de seguidores: 0it [00:00, ?it/s]"
      ]
     },
     "metadata": {},
     "output_type": "display_data"
    },
    {
     "name": "stdout",
     "output_type": "stream",
     "text": [
      "Follower n°: 62\n",
      "714 Registro(s) insertado(s) con éxito\n"
     ]
    },
    {
     "data": {
      "application/vnd.jupyter.widget-view+json": {
       "model_id": "",
       "version_major": 2,
       "version_minor": 0
      },
      "text/plain": [
       "Seguidores de seguidores: 0it [00:00, ?it/s]"
      ]
     },
     "metadata": {},
     "output_type": "display_data"
    },
    {
     "name": "stdout",
     "output_type": "stream",
     "text": [
      "Follower n°: 63\n",
      "159 Registro(s) insertado(s) con éxito\n"
     ]
    },
    {
     "data": {
      "application/vnd.jupyter.widget-view+json": {
       "model_id": "",
       "version_major": 2,
       "version_minor": 0
      },
      "text/plain": [
       "Seguidores de seguidores: 0it [00:00, ?it/s]"
      ]
     },
     "metadata": {},
     "output_type": "display_data"
    },
    {
     "name": "stdout",
     "output_type": "stream",
     "text": [
      "Follower n°: 64\n",
      "529 Registro(s) insertado(s) con éxito\n"
     ]
    },
    {
     "data": {
      "application/vnd.jupyter.widget-view+json": {
       "model_id": "",
       "version_major": 2,
       "version_minor": 0
      },
      "text/plain": [
       "Seguidores de seguidores: 0it [00:00, ?it/s]"
      ]
     },
     "metadata": {},
     "output_type": "display_data"
    },
    {
     "name": "stdout",
     "output_type": "stream",
     "text": [
      "Follower n°: 65\n",
      "127 Registro(s) insertado(s) con éxito\n"
     ]
    },
    {
     "data": {
      "application/vnd.jupyter.widget-view+json": {
       "model_id": "",
       "version_major": 2,
       "version_minor": 0
      },
      "text/plain": [
       "Seguidores de seguidores: 0it [00:00, ?it/s]"
      ]
     },
     "metadata": {},
     "output_type": "display_data"
    },
    {
     "name": "stdout",
     "output_type": "stream",
     "text": [
      "Follower n°: 66\n",
      "59 Registro(s) insertado(s) con éxito\n"
     ]
    },
    {
     "data": {
      "application/vnd.jupyter.widget-view+json": {
       "model_id": "",
       "version_major": 2,
       "version_minor": 0
      },
      "text/plain": [
       "Seguidores de seguidores: 0it [00:00, ?it/s]"
      ]
     },
     "metadata": {},
     "output_type": "display_data"
    },
    {
     "name": "stdout",
     "output_type": "stream",
     "text": [
      "Follower n°: 67\n",
      "672 Registro(s) insertado(s) con éxito\n"
     ]
    },
    {
     "data": {
      "application/vnd.jupyter.widget-view+json": {
       "model_id": "",
       "version_major": 2,
       "version_minor": 0
      },
      "text/plain": [
       "Seguidores de seguidores: 0it [00:00, ?it/s]"
      ]
     },
     "metadata": {},
     "output_type": "display_data"
    },
    {
     "name": "stdout",
     "output_type": "stream",
     "text": [
      "Follower n°: 68\n",
      "78 Registro(s) insertado(s) con éxito\n"
     ]
    },
    {
     "data": {
      "application/vnd.jupyter.widget-view+json": {
       "model_id": "",
       "version_major": 2,
       "version_minor": 0
      },
      "text/plain": [
       "Seguidores de seguidores: 0it [00:00, ?it/s]"
      ]
     },
     "metadata": {},
     "output_type": "display_data"
    },
    {
     "name": "stdout",
     "output_type": "stream",
     "text": [
      "Follower n°: 69\n",
      "376 Registro(s) insertado(s) con éxito\n"
     ]
    },
    {
     "data": {
      "application/vnd.jupyter.widget-view+json": {
       "model_id": "",
       "version_major": 2,
       "version_minor": 0
      },
      "text/plain": [
       "Seguidores de seguidores: 0it [00:00, ?it/s]"
      ]
     },
     "metadata": {},
     "output_type": "display_data"
    },
    {
     "name": "stdout",
     "output_type": "stream",
     "text": [
      "Follower n°: 70\n",
      "369 Registro(s) insertado(s) con éxito\n"
     ]
    },
    {
     "data": {
      "application/vnd.jupyter.widget-view+json": {
       "model_id": "",
       "version_major": 2,
       "version_minor": 0
      },
      "text/plain": [
       "Seguidores de seguidores: 0it [00:00, ?it/s]"
      ]
     },
     "metadata": {},
     "output_type": "display_data"
    },
    {
     "name": "stdout",
     "output_type": "stream",
     "text": [
      "Follower n°: 71\n",
      "362 Registro(s) insertado(s) con éxito\n"
     ]
    },
    {
     "data": {
      "application/vnd.jupyter.widget-view+json": {
       "model_id": "",
       "version_major": 2,
       "version_minor": 0
      },
      "text/plain": [
       "Seguidores de seguidores: 0it [00:00, ?it/s]"
      ]
     },
     "metadata": {},
     "output_type": "display_data"
    },
    {
     "name": "stdout",
     "output_type": "stream",
     "text": [
      "Follower n°: 72\n",
      "1167 Registro(s) insertado(s) con éxito\n"
     ]
    },
    {
     "data": {
      "application/vnd.jupyter.widget-view+json": {
       "model_id": "",
       "version_major": 2,
       "version_minor": 0
      },
      "text/plain": [
       "Seguidores de seguidores: 0it [00:00, ?it/s]"
      ]
     },
     "metadata": {},
     "output_type": "display_data"
    },
    {
     "name": "stdout",
     "output_type": "stream",
     "text": [
      "Follower n°: 73\n",
      "379 Registro(s) insertado(s) con éxito\n"
     ]
    }
   ],
   "source": [
    "# Creamos el dataframe donde guardamos los datos\n",
    "contador = 0\n",
    "seguidores_x_segundo = 0\n",
    "api = api_p\n",
    "start_cell = dt.now()\n",
    "reporte = pd.DataFrame()\n",
    "\n",
    "# Iteramos en la lista de los seguidores del referente // o la lista de referentes\n",
    "for follower_id in tqdm(lista_ids, leave=True, desc='Seguidores de referentes'):\n",
    "    relaciones = pd.DataFrame()\n",
    "    start = dt.now()  \n",
    "    contador +=1\n",
    "    # Buscamos a los seguidores de cada usuario en dicha lista\n",
    "    followers_de_follower = tw.Cursor(api.followers_ids, user_id=follower_id).items()    \n",
    "    \n",
    "    try: # error de Tweepy\n",
    "        for user_id in tqdm(followers_de_follower, leave=False, desc='Seguidores de seguidores'):\n",
    "            dicc = {'nodo1':str(int(user_id)) + 'X', \n",
    "                    'relacion':1, \n",
    "                    'nodo2':str(int(follower_id)) + 'X'}\n",
    "            \n",
    "            relaciones = relaciones.append(dicc, ignore_index=True)\n",
    "            \n",
    "            # guardamos batch por si se rompe la inserción en SQL\n",
    "            relaciones.to_csv('temp\\Tabla de relaciones.csv')\n",
    "\n",
    "        \n",
    "        end = dt.now()\n",
    "        cant_seguidores = api.get_user(follower_id).followers_count\n",
    "        segundos = (end - start).seconds\n",
    "        \n",
    "        reporte_dic = {'cant_seguidores':cant_seguidores,\n",
    "                      'follower_n':contador,\n",
    "                      'tiempo':segundos,\n",
    "                       'hora': dt.now().strftime(\"%m/%d/%Y, %H:%M:%S\"),\n",
    "                      'error':0}\n",
    "        reporte = reporte.append(reporte_dic, ignore_index=True)\n",
    "\n",
    "    except tw.TweepError as ex:\n",
    "        # Esta excepción ocurre cuando la configuración de privacidad del usuario no permite acceder a sus datos\n",
    "        if ex.reason == \"Not authorized.\":\n",
    "            print(f'{follower_id} es privado. Posición {lista_ids.index(follower_id)}')\n",
    "            reporte_dic = {'cant_seguidores':np.nan,\n",
    "                      'follower_n':np.nan,\n",
    "                      'tiempo':np.nan,\n",
    "                      'hora': dt.now().strftime(\"%m/%d/%Y, %H:%M:%S\"),\n",
    "                      'error':1}\n",
    "            reporte = reporte.append(reporte_dic, ignore_index=True)\n",
    "            pass\n",
    "    \n",
    "    print(f'Follower n°: {contador}')\n",
    "    # inserto data en BD\n",
    "    insert_data(df=relaciones, table_name='relaciones', connection=con)\n",
    "    \n",
    "    # eliminamos duplicados de DB\n",
    "    remove_duplicates(connection=con, table_name='relaciones')\n",
    "    \n",
    "    # guardo reporte\n",
    "    reporte.to_csv('temp/reporte.csv')"
   ]
  },
  {
   "cell_type": "code",
   "execution_count": 15,
   "metadata": {},
   "outputs": [
    {
     "name": "stdout",
     "output_type": "stream",
     "text": [
      "Celda tarda -61 minutos\n",
      "Celda tarda -1.02 horas\n"
     ]
    }
   ],
   "source": [
    "celda_duracion = start_cell - dt.now()\n",
    "print('Celda tarda', round(celda_duracion.total_seconds() / 60), 'minutos')\n",
    "print('Celda tarda', round(celda_duracion.total_seconds() / 60 / 60, 2), 'horas')"
   ]
  },
  {
   "cell_type": "code",
   "execution_count": 16,
   "metadata": {},
   "outputs": [
    {
     "name": "stdout",
     "output_type": "stream",
     "text": [
      "(73, 5)\n",
      "(379, 3)\n"
     ]
    }
   ],
   "source": [
    "print(reporte.shape)\n",
    "print(relaciones.shape)"
   ]
  },
  {
   "cell_type": "code",
   "execution_count": 17,
   "metadata": {},
   "outputs": [],
   "source": [
    "# cerrar la conexión\n",
    "con.close()"
   ]
  },
  {
   "cell_type": "markdown",
   "metadata": {},
   "source": [
    "# \n",
    "Hasta aquí obtendríamos, de nuestros 73 referentes, todos sus seguidores y seguidos. \n",
    "¿Este sería nuestro universo?\n",
    "\n",
    "Nos queda pendiente:\n",
    "- hacer una tabla de nodos, donde busquemos los IDs únicos de la lista y pidamos su info. Hay que ver cómo la estructuramos.\n",
    "- analizar su estructura.\n",
    "- remuestreo. "
   ]
  },
  {
   "cell_type": "code",
   "execution_count": 18,
   "metadata": {},
   "outputs": [
    {
     "name": "stdout",
     "output_type": "stream",
     "text": [
      "29715\n"
     ]
    }
   ],
   "source": [
    "# inicializamos BD\n",
    "con = sqlite3.connect('bases\\example.db')\n",
    "data = pd.read_sql('SELECT * from relaciones', con)\n",
    "nodos_unicos = data['nodo1'].append(data['nodo2']).drop_duplicates()\n",
    "print(len(nodos_unicos))\n",
    "con.close()"
   ]
  },
  {
   "cell_type": "code",
   "execution_count": null,
   "metadata": {},
   "outputs": [],
   "source": []
  }
 ],
 "metadata": {
  "kernelspec": {
   "display_name": "Python 3 (ipykernel)",
   "language": "python",
   "name": "python3"
  },
  "language_info": {
   "codemirror_mode": {
    "name": "ipython",
    "version": 3
   },
   "file_extension": ".py",
   "mimetype": "text/x-python",
   "name": "python",
   "nbconvert_exporter": "python",
   "pygments_lexer": "ipython3",
   "version": "3.7.10"
  }
 },
 "nbformat": 4,
 "nbformat_minor": 4
}
